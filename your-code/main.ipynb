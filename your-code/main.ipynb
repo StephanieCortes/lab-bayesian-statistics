{
 "cells": [
  {
   "cell_type": "markdown",
   "metadata": {},
   "source": [
    "# Intro to Bayesian Statistics Lab\n",
    "\n",
    "Complete the following set of exercises to solidify your knowledge of Bayesian statistics and Bayesian data analysis."
   ]
  },
  {
   "cell_type": "code",
   "execution_count": 14,
   "metadata": {},
   "outputs": [],
   "source": [
    "import pandas as pd\n",
    "import numpy as np\n",
    "import matplotlib.pyplot as plt"
   ]
  },
  {
   "cell_type": "markdown",
   "metadata": {},
   "source": [
    "## 1. Cookie Problem\n",
    "\n",
    "Suppose we have two bowls of cookies. Bowl 1 contains 30 vanilla cookies and 10 chocolate cookies. Bowl 2 contains 20 of each. You randomly pick one cookie out of one of the bowls, and it is vanilla. Use Bayes Theorem to calculate the probability that the vanilla cookie you picked came from Bowl 1?"
   ]
  },
  {
   "cell_type": "code",
   "execution_count": 1,
   "metadata": {},
   "outputs": [
    {
     "name": "stdout",
     "output_type": "stream",
     "text": [
      "0.6\n"
     ]
    }
   ],
   "source": [
    "#Priors\n",
    "b1 = 0.5\n",
    "b2 = 0.5\n",
    "\n",
    "#Likelihood\n",
    "#Bowl 1\n",
    "van1 = 30/40\n",
    "cho1 = 10/40\n",
    "\n",
    "#Bowl 2\n",
    "van2 = 20/40\n",
    "cho2 = 20/40\n",
    "\n",
    "#Came from Bowl 1\n",
    "\n",
    "P_van1_b1 = (b1*van1)/((b1*van1)+(b2*van2))\n",
    "print(P_van1_b1)\n",
    "\n",
    "\n"
   ]
  },
  {
   "cell_type": "code",
   "execution_count": 7,
   "metadata": {},
   "outputs": [
    {
     "data": {
      "text/plain": [
       "array([0.6, 0.4])"
      ]
     },
     "execution_count": 7,
     "metadata": {},
     "output_type": "execute_result"
    }
   ],
   "source": [
    "#Usando la función de clase\n",
    "\n",
    "priors = [b1, b2]\n",
    "likelihoods = [van1, van2]\n",
    "\n",
    "def bayes(priors, likelihoods):\n",
    "\n",
    "    marginal = sum(np.multiply(priors, likelihoods))\n",
    "    num = np.multiply(priors, likelihoods)\n",
    "    posteriori = np.divide(num, marginal)\n",
    "    return posteriori\n",
    "\n",
    "bayes(priors,likelihoods)\n",
    "\n",
    "# Probalidad que sea vainilla de bowl 1 es 60% y vainilla de bowl 2 es 40%"
   ]
  },
  {
   "cell_type": "markdown",
   "metadata": {},
   "source": [
    "What is the probability that it came from Bowl 2?"
   ]
  },
  {
   "cell_type": "code",
   "execution_count": 2,
   "metadata": {},
   "outputs": [
    {
     "name": "stdout",
     "output_type": "stream",
     "text": [
      "0.4\n"
     ]
    }
   ],
   "source": [
    "P_van2_b2 = (b2*van2)/((b1*van1)+(b2*van2))\n",
    "print(P_van2_b2)"
   ]
  },
  {
   "cell_type": "markdown",
   "metadata": {},
   "source": [
    "What if the cookie you had picked was chocolate? What are the probabilities that the chocolate cookie came from Bowl 1 and Bowl 2 respectively?"
   ]
  },
  {
   "cell_type": "code",
   "execution_count": 5,
   "metadata": {},
   "outputs": [
    {
     "name": "stdout",
     "output_type": "stream",
     "text": [
      "0.3333333333333333\n",
      "0.6666666666666666\n"
     ]
    }
   ],
   "source": [
    "#Chocolate from Bowl 1\n",
    "\n",
    "P_cho1_b1 = (b1*cho1)/((b1*cho1)+(b2*cho2))\n",
    "print(P_cho1_b1)\n",
    "\n",
    "#Chocolate from Bowl 2\n",
    "P_cho2_b2 = (b2*cho2)/((b1*cho1)+(b2*cho2))\n",
    "print(P_cho2_b2)"
   ]
  },
  {
   "cell_type": "code",
   "execution_count": 8,
   "metadata": {},
   "outputs": [
    {
     "data": {
      "text/plain": [
       "array([0.33333333, 0.66666667])"
      ]
     },
     "execution_count": 8,
     "metadata": {},
     "output_type": "execute_result"
    }
   ],
   "source": [
    "#Usando función\n",
    "priors = [b1, b2]\n",
    "likelihoods =[cho1, cho2]\n",
    "\n",
    "bayes(priors,likelihoods)\n",
    "\n",
    "#PRobabilidad que sea chocolate de bowl 1 es 33.33% y chocolate de bowl 2 es 66.66%"
   ]
  },
  {
   "cell_type": "markdown",
   "metadata": {},
   "source": [
    "## 2. Candy Problem\n",
    "\n",
    "Suppose you have two bags of candies:\n",
    "\n",
    "- In Bag 1, the mix of colors is:\n",
    "    - Brown - 30%\n",
    "    - Yellow - 20%\n",
    "    - Red - 20%\n",
    "    - Green - 10%\n",
    "    - Orange - 10%\n",
    "    - Tan - 10%\n",
    "    \n",
    "- In Bag 2, the mix of colors is:\n",
    "    - Blue - 24%\n",
    "    - Green - 20%\n",
    "    - Orange - 16%\n",
    "    - Yellow - 14%\n",
    "    - Red - 13%\n",
    "    - Brown - 13%\n",
    "    \n",
    "Not knowing which bag is which, you randomly draw one candy from each bag. One is yellow and one is green. What is the probability that the yellow one came from the Bag 1?\n",
    "\n",
    "*Hint: For the likelihoods, you will need to multiply the probabilities of drawing yellow from one bag and green from the other bag and vice versa.*"
   ]
  },
  {
   "cell_type": "code",
   "execution_count": 10,
   "metadata": {},
   "outputs": [
    {
     "data": {
      "text/plain": [
       "array([0.74074074, 0.25925926])"
      ]
     },
     "execution_count": 10,
     "metadata": {},
     "output_type": "execute_result"
    }
   ],
   "source": [
    "bag1 = 0.50\n",
    "bag2 = 0.50\n",
    "\n",
    "#Bag1\n",
    "b1 = 0.30\n",
    "y1 = 0.20\n",
    "r1 = 0.20\n",
    "g1 = 0.10\n",
    "o1 = 0.10\n",
    "t1 = 0.10\n",
    "\n",
    "#Bag2\n",
    "b2 = 0.24\n",
    "y2 = 0.20\n",
    "r2 = 0.16\n",
    "g2 = 0.14\n",
    "o2 = 0.13\n",
    "t2 = 0.13\n",
    "\n",
    "\n",
    "#Tomamos un dulce de cada bolsa\n",
    "\n",
    "#P(y1|bag1)= P(y1|bag1)P(bag1)/P(y1|bag1)+P(y2|bag2)\n",
    "\n",
    "priors = [bag1, bag2]\n",
    "likelihoods = [y1*y2, g1*g2]\n",
    "\n",
    "bayes(priors, likelihoods)\n",
    "\n",
    "#P(y1|b1) = 74.07%"
   ]
  },
  {
   "cell_type": "markdown",
   "metadata": {},
   "source": [
    "What is the probability that the yellow candy came from Bag 2?"
   ]
  },
  {
   "cell_type": "code",
   "execution_count": null,
   "metadata": {},
   "outputs": [],
   "source": [
    "#P(y2|b2) = 25.93%"
   ]
  },
  {
   "cell_type": "markdown",
   "metadata": {},
   "source": [
    "What are the probabilities that the green one came from Bag 1 and Bag 2 respectively?"
   ]
  },
  {
   "cell_type": "code",
   "execution_count": 11,
   "metadata": {},
   "outputs": [
    {
     "data": {
      "text/plain": [
       "array([0.25925926, 0.74074074])"
      ]
     },
     "execution_count": 11,
     "metadata": {},
     "output_type": "execute_result"
    }
   ],
   "source": [
    "priors = [bag1, bag2]\n",
    "likelihoods = [g1*g2, y1*y2]\n",
    "\n",
    "bayes(priors, likelihoods)\n",
    "\n",
    "#P(g1|b1) = 25.93%\n",
    "#P(g2|b2) = 74.07%"
   ]
  },
  {
   "cell_type": "markdown",
   "metadata": {},
   "source": [
    "## 3. Monty Hall Problem\n",
    "\n",
    "Suppose you are a contestant on the popular game show *Let's Make a Deal*. The host of the show (Monty Hall) presents you with three doors - Door A, Door B, and Door C. He tells you that there is a sports car behind one of them and if you choose the correct one, you win the car!\n",
    "\n",
    "You select Door A, but then Monty makes things a little more interesting. He opens Door B to reveal that there is no sports car behind it and asks you if you would like to stick with your choice of Door A or switch your choice to Door C. Given this new information, what are the probabilities of you winning the car if you stick with Door A versus if you switch to Door C?"
   ]
  },
  {
   "cell_type": "code",
   "execution_count": 12,
   "metadata": {},
   "outputs": [
    {
     "data": {
      "text/plain": [
       "array([0.33333333, 0.        , 0.66666667])"
      ]
     },
     "execution_count": 12,
     "metadata": {},
     "output_type": "execute_result"
    }
   ],
   "source": [
    "\n",
    "\n",
    "A = 1/3\n",
    "B = 1/3\n",
    "C = 1/3\n",
    "\n",
    "prior = [A, B, C]\n",
    "likelihoods = [1/2, 0, 1]\n",
    "\n",
    "bayes (prior, likelihoods)\n",
    "\n",
    "# P(car|A) = 33.33%\n",
    "#P (car|B) = 66.66%\n"
   ]
  },
  {
   "cell_type": "markdown",
   "metadata": {},
   "source": [
    "## 4. Bayesian Analysis \n",
    "\n",
    "Suppose you work for a landscaping company, and they want to advertise their service online. They create an ad and sit back waiting for the money to roll in. On the first day, the ad sends 100 visitors to the site and 14 of them sign up for landscaping services. Create a generative model to come up with the posterior distribution and produce a visualization of what the posterior distribution would look like given the observed data."
   ]
  },
  {
   "cell_type": "code",
   "execution_count": 20,
   "metadata": {},
   "outputs": [
    {
     "data": {
      "image/png": "[encoded data removed]",
      "text/plain": [
       "<Figure size 720x360 with 1 Axes>"
      ]
     },
     "metadata": {},
     "output_type": "display_data"
    }
   ],
   "source": [
    "#P(roll) = 14/100\n",
    "#P_sign = 14/100\n",
    "\n",
    "n_draws=10000\n",
    "priori = pd.Series(np.random.uniform(0,1, size=n_draws))\n",
    "\n",
    "def generative_model(param):\n",
    "    result = np.random.binomial(100, param)\n",
    "    return result\n",
    "\n",
    "signup = list()\n",
    "\n",
    "for p in priori:\n",
    "    signup.append(generative_model(p))\n",
    "\n",
    "posterior = priori[list(map(lambda x: x == 14, signup))]\n",
    "\n",
    "\n",
    "plt.figure(figsize=(10,5),facecolor='w')\n",
    "posterior.hist();"
   ]
  },
  {
   "cell_type": "markdown",
   "metadata": {},
   "source": [
    "Produce a set of descriptive statistics for the posterior distribution."
   ]
  },
  {
   "cell_type": "code",
   "execution_count": 22,
   "metadata": {},
   "outputs": [
    {
     "data": {
      "text/plain": [
       "count    95.000000\n",
       "mean      0.140036\n",
       "std       0.032850\n",
       "min       0.063000\n",
       "25%       0.116559\n",
       "50%       0.137693\n",
       "75%       0.161215\n",
       "max       0.224973\n",
       "dtype: float64"
      ]
     },
     "execution_count": 22,
     "metadata": {},
     "output_type": "execute_result"
    }
   ],
   "source": [
    "\n",
    "posterior.describe()"
   ]
  },
  {
   "cell_type": "markdown",
   "metadata": {},
   "source": [
    "What is the 90% credible interval range?"
   ]
  },
  {
   "cell_type": "code",
   "execution_count": 25,
   "metadata": {},
   "outputs": [
    {
     "name": "stdout",
     "output_type": "stream",
     "text": [
      "( 0.09537552121253323 ,  0.210682600116762 )\n",
      "( 0.00863457291968725 ,  0.27143840138888753 )\n"
     ]
    }
   ],
   "source": [
    "print('(',posterior.quantile(0.075), ', ', posterior.quantile(0.975), ')')\n",
    "\n",
    "print('(',posterior.mean()-4*posterior.std(), ', ', posterior.mean()+4*posterior.std(), ')')"
   ]
  },
  {
   "cell_type": "markdown",
   "metadata": {},
   "source": [
    "What is the Maximum Likelihood Estimate?"
   ]
  },
  {
   "cell_type": "code",
   "execution_count": 26,
   "metadata": {},
   "outputs": [
    {
     "data": {
      "text/plain": [
       "0.22497333197149927"
      ]
     },
     "execution_count": 26,
     "metadata": {},
     "output_type": "execute_result"
    }
   ],
   "source": [
    "posterior.max()"
   ]
  },
  {
   "cell_type": "code",
   "execution_count": null,
   "metadata": {},
   "outputs": [],
   "source": []
  }
 ],
 "metadata": {
  "kernelspec": {
   "display_name": "Python 3",
   "language": "python",
   "name": "python3"
  },
  "language_info": {
   "codemirror_mode": {
    "name": "ipython",
    "version": 3
   },
   "file_extension": ".py",
   "mimetype": "text/x-python",
   "name": "python",
   "nbconvert_exporter": "python",
   "pygments_lexer": "ipython3",
   "version": "3.8.3"
  }
 },
 "nbformat": 4,
 "nbformat_minor": 2
}
